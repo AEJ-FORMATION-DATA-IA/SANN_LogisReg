{
 "cells": [
  {
   "cell_type": "markdown",
   "id": "55f28d0e-7b53-4805-a35b-451a8b75c5af",
   "metadata": {},
   "source": [
    "## IMPORTATION DES MODULES"
   ]
  },
  {
   "cell_type": "code",
   "execution_count": 1,
   "id": "d3e7af3e-30b6-49b8-b2e0-0fcbe4e178ce",
   "metadata": {},
   "outputs": [],
   "source": [
    "import pandas as pd\n",
    "import numpy as np\n",
    "import seaborn as sb\n",
    "import matplotlib.pyplot as plt\n",
    "\n",
    "from sklearn.preprocessing import MaxAbsScaler, MinMaxScaler\n",
    "from sklearn.linear_model import LogisticRegression\n",
    "from sklearn.model_selection import train_test_split\n",
    "from sklearn.metrics import classification_report,accuracy_score\n",
    "#from sklearn.metrics import confusion_matrix"
   ]
  },
  {
   "cell_type": "markdown",
   "id": "8b586c5e-069d-4fb1-a403-23db946c6013",
   "metadata": {
    "tags": []
   },
   "source": [
    "## PRE-TRAITEMENT DES DONNEES"
   ]
  },
  {
   "cell_type": "code",
   "execution_count": 2,
   "id": "8d50cc1b-0183-46dc-8ad0-1334c3572e84",
   "metadata": {},
   "outputs": [],
   "source": [
    "#chargement du dataset\n",
    "data = pd.read_excel('ml.xlsx')\n",
    "df = data.copy()"
   ]
  },
  {
   "cell_type": "code",
   "execution_count": 3,
   "id": "4599728b-570f-4d66-9670-9335a4d857a4",
   "metadata": {
    "tags": []
   },
   "outputs": [
    {
     "data": {
      "text/plain": [
       "0"
      ]
     },
     "execution_count": 3,
     "metadata": {},
     "output_type": "execute_result"
    }
   ],
   "source": [
    "#vérificaton et suppression des doublons\n",
    "#df.drop_duplicates() pour suppression\n",
    "df.duplicated().sum()"
   ]
  },
  {
   "cell_type": "code",
   "execution_count": 4,
   "id": "a7d9cfea-f0e0-4244-a921-44fd692f29cf",
   "metadata": {
    "tags": []
   },
   "outputs": [
    {
     "data": {
      "text/plain": [
       "AGE            0\n",
       "SEXE           0\n",
       "TDT            0\n",
       "PAR            0\n",
       "CHOLESTEROL    0\n",
       "GAJ            0\n",
       "ECG            0\n",
       "FCMAX          0\n",
       "ANGINE         0\n",
       "DEPRESSION     0\n",
       "PENTE          0\n",
       "CŒUR           0\n",
       "dtype: int64"
      ]
     },
     "execution_count": 4,
     "metadata": {},
     "output_type": "execute_result"
    }
   ],
   "source": [
    "#vérification des données manquantes\n",
    "df.isna().sum()"
   ]
  },
  {
   "cell_type": "code",
   "execution_count": 5,
   "id": "41b08731-fc94-4d2c-9674-7148f1cea0c9",
   "metadata": {
    "tags": []
   },
   "outputs": [
    {
     "data": {
      "text/plain": [
       "AGE             50\n",
       "SEXE             2\n",
       "TDT              4\n",
       "PAR             67\n",
       "CHOLESTEROL    222\n",
       "GAJ              2\n",
       "ECG              3\n",
       "FCMAX          119\n",
       "ANGINE           2\n",
       "DEPRESSION      53\n",
       "PENTE            3\n",
       "CŒUR             2\n",
       "dtype: int64"
      ]
     },
     "execution_count": 5,
     "metadata": {},
     "output_type": "execute_result"
    }
   ],
   "source": [
    "#vérification de l'existence d'une constante\n",
    "df.nunique()"
   ]
  },
  {
   "cell_type": "code",
   "execution_count": 6,
   "id": "695c41b8-a870-4087-8418-bada960a59e9",
   "metadata": {
    "tags": []
   },
   "outputs": [],
   "source": [
    "#Encodage des variables catégorielles\n",
    "\n",
    "\n",
    "def recoder_data(data):\n",
    "    def recoder(serie):\n",
    "        return serie.astype('category').cat.codes\n",
    "    for i in data.select_dtypes('object').columns:\n",
    "        data[i] = recoder(data[i])\n",
    "\n",
    "    return data"
   ]
  },
  {
   "cell_type": "code",
   "execution_count": 7,
   "id": "80b47a80-2172-48c2-a87f-f2bb2febc2b6",
   "metadata": {},
   "outputs": [
    {
     "data": {
      "text/html": [
       "<div>\n",
       "<style scoped>\n",
       "    .dataframe tbody tr th:only-of-type {\n",
       "        vertical-align: middle;\n",
       "    }\n",
       "\n",
       "    .dataframe tbody tr th {\n",
       "        vertical-align: top;\n",
       "    }\n",
       "\n",
       "    .dataframe thead th {\n",
       "        text-align: right;\n",
       "    }\n",
       "</style>\n",
       "<table border=\"1\" class=\"dataframe\">\n",
       "  <thead>\n",
       "    <tr style=\"text-align: right;\">\n",
       "      <th></th>\n",
       "      <th>AGE</th>\n",
       "      <th>SEXE</th>\n",
       "      <th>TDT</th>\n",
       "      <th>PAR</th>\n",
       "      <th>CHOLESTEROL</th>\n",
       "      <th>GAJ</th>\n",
       "      <th>ECG</th>\n",
       "      <th>FCMAX</th>\n",
       "      <th>ANGINE</th>\n",
       "      <th>DEPRESSION</th>\n",
       "      <th>PENTE</th>\n",
       "      <th>CŒUR</th>\n",
       "    </tr>\n",
       "  </thead>\n",
       "  <tbody>\n",
       "    <tr>\n",
       "      <th>0</th>\n",
       "      <td>40</td>\n",
       "      <td>1</td>\n",
       "      <td>0</td>\n",
       "      <td>140</td>\n",
       "      <td>289</td>\n",
       "      <td>0</td>\n",
       "      <td>1</td>\n",
       "      <td>172</td>\n",
       "      <td>0</td>\n",
       "      <td>0.0</td>\n",
       "      <td>0</td>\n",
       "      <td>0</td>\n",
       "    </tr>\n",
       "    <tr>\n",
       "      <th>1</th>\n",
       "      <td>49</td>\n",
       "      <td>0</td>\n",
       "      <td>3</td>\n",
       "      <td>160</td>\n",
       "      <td>180</td>\n",
       "      <td>0</td>\n",
       "      <td>1</td>\n",
       "      <td>156</td>\n",
       "      <td>0</td>\n",
       "      <td>1.0</td>\n",
       "      <td>2</td>\n",
       "      <td>1</td>\n",
       "    </tr>\n",
       "    <tr>\n",
       "      <th>2</th>\n",
       "      <td>37</td>\n",
       "      <td>1</td>\n",
       "      <td>0</td>\n",
       "      <td>130</td>\n",
       "      <td>283</td>\n",
       "      <td>0</td>\n",
       "      <td>2</td>\n",
       "      <td>98</td>\n",
       "      <td>0</td>\n",
       "      <td>0.0</td>\n",
       "      <td>0</td>\n",
       "      <td>0</td>\n",
       "    </tr>\n",
       "    <tr>\n",
       "      <th>3</th>\n",
       "      <td>48</td>\n",
       "      <td>0</td>\n",
       "      <td>1</td>\n",
       "      <td>138</td>\n",
       "      <td>214</td>\n",
       "      <td>0</td>\n",
       "      <td>1</td>\n",
       "      <td>108</td>\n",
       "      <td>1</td>\n",
       "      <td>1.5</td>\n",
       "      <td>2</td>\n",
       "      <td>1</td>\n",
       "    </tr>\n",
       "    <tr>\n",
       "      <th>4</th>\n",
       "      <td>54</td>\n",
       "      <td>1</td>\n",
       "      <td>3</td>\n",
       "      <td>150</td>\n",
       "      <td>195</td>\n",
       "      <td>0</td>\n",
       "      <td>1</td>\n",
       "      <td>122</td>\n",
       "      <td>0</td>\n",
       "      <td>0.0</td>\n",
       "      <td>0</td>\n",
       "      <td>0</td>\n",
       "    </tr>\n",
       "  </tbody>\n",
       "</table>\n",
       "</div>"
      ],
      "text/plain": [
       "   AGE  SEXE  TDT  PAR  CHOLESTEROL  GAJ  ECG  FCMAX  ANGINE  DEPRESSION   \\\n",
       "0   40     1    0  140          289    0    1    172       0          0.0   \n",
       "1   49     0    3  160          180    0    1    156       0          1.0   \n",
       "2   37     1    0  130          283    0    2     98       0          0.0   \n",
       "3   48     0    1  138          214    0    1    108       1          1.5   \n",
       "4   54     1    3  150          195    0    1    122       0          0.0   \n",
       "\n",
       "   PENTE  CŒUR  \n",
       "0      0     0  \n",
       "1      2     1  \n",
       "2      0     0  \n",
       "3      2     1  \n",
       "4      0     0  "
      ]
     },
     "execution_count": 7,
     "metadata": {},
     "output_type": "execute_result"
    }
   ],
   "source": [
    "recoder_data(df).head()"
   ]
  },
  {
   "cell_type": "code",
   "execution_count": 15,
   "id": "2a4873f4-b7b5-4e28-a74b-4f4ce13bc2f4",
   "metadata": {
    "tags": []
   },
   "outputs": [
    {
     "data": {
      "image/png": "[encoded data removed]",
      "text/plain": [
       "<Figure size 468.5x360 with 1 Axes>"
      ]
     },
     "metadata": {
      "needs_background": "light"
     },
     "output_type": "display_data"
    }
   ],
   "source": [
    "#Normalisation des variables\n",
    "mms= MinMaxScaler()\n",
    "df_mms= pd.DataFrame(mms.fit_transform(df),columns=df.columns)\n",
    "\n",
    "#mas = MaxAbsScaler()\n",
    "#df_mas= pd.DataFrame(mas.fit_transform(df),columns=df.columns)\n",
    "#def histo(data):\n",
    "  # return data.hist(figsize=(20,10))\n",
    "#histo(df_mms);\n",
    "sb.displot(data=df_mms);\n"
   ]
  },
  {
   "cell_type": "code",
   "execution_count": 9,
   "id": "5137f9a8-153c-4332-928e-1f56fb23bbce",
   "metadata": {
    "tags": []
   },
   "outputs": [],
   "source": [
    "#segmentation de la DataFrame selon X et y\n",
    "#xx = df[['AGE','SEXE','TDT','PAR','CHOLESTEROL','GAJ','ECG','FCMAX','ANGINE','DEPRESSION ','PENTE']]\n",
    "#yy= df[['CŒUR']]\n",
    "\n",
    "\n",
    "X = df_mms.iloc[:,:11]\n",
    "y = df_mms.iloc[:,-1:]\n"
   ]
  },
  {
   "cell_type": "markdown",
   "id": "695426c7-de54-417d-b150-06a289a58de7",
   "metadata": {},
   "source": [
    "#{ APPLICATION DU MODELE DE REGRESSION LOGISTIQUE"
   ]
  },
  {
   "cell_type": "code",
   "execution_count": 10,
   "id": "924bab60-fcd8-4831-a5f3-b1c4070593f3",
   "metadata": {},
   "outputs": [
    {
     "name": "stdout",
     "output_type": "stream",
     "text": [
      "(642, 11)\n",
      "(276, 11)\n"
     ]
    }
   ],
   "source": [
    "#separation des données\n",
    "x_train,x_test,y_train,y_test=train_test_split(X,y,test_size=0.3,random_state=1)\n",
    "print(x_train.shape)\n",
    "print(x_test.shape)"
   ]
  },
  {
   "cell_type": "code",
   "execution_count": 11,
   "id": "e7c28430-ab0c-4c5a-9f16-750e7d2d1a5f",
   "metadata": {},
   "outputs": [
    {
     "name": "stderr",
     "output_type": "stream",
     "text": [
      "C:\\CONDA\\lib\\site-packages\\sklearn\\utils\\validation.py:63: DataConversionWarning: A column-vector y was passed when a 1d array was expected. Please change the shape of y to (n_samples, ), for example using ravel().\n",
      "  return f(*args, **kwargs)\n"
     ]
    },
    {
     "data": {
      "text/plain": [
       "LogisticRegression()"
      ]
     },
     "execution_count": 11,
     "metadata": {},
     "output_type": "execute_result"
    }
   ],
   "source": [
    "#Entrainement du modèle\n",
    "log_reg=LogisticRegression()\n",
    "log_reg.fit(x_train,y_train)\n"
   ]
  },
  {
   "cell_type": "code",
   "execution_count": 16,
   "id": "b2b8fc77-2f08-4d3e-a3d8-e8786fa3922c",
   "metadata": {},
   "outputs": [],
   "source": [
    "pred=log_reg.predict(x_test)"
   ]
  },
  {
   "cell_type": "code",
   "execution_count": 17,
   "id": "5aa002b5-6366-4abf-acd3-0de5e7bf99d6",
   "metadata": {},
   "outputs": [
    {
     "name": "stdout",
     "output_type": "stream",
     "text": [
      "[1. 1. 1. 1. 1. 0. 1. 0. 0. 1. 0. 0. 1. 1. 1. 0. 1. 0. 1. 1. 1. 0. 1. 0.\n",
      " 1. 1. 0. 1. 1. 0. 0. 0. 0. 0. 1. 1. 1. 1. 0. 0. 1. 1. 1. 0. 0. 0. 1. 0.\n",
      " 0. 1. 0. 1. 1. 0. 1. 0. 1. 0. 1. 0. 1. 1. 1. 0. 0. 1. 1. 1. 0. 1. 1. 0.\n",
      " 1. 1. 0. 1. 0. 1. 1. 1. 1. 1. 1. 1. 1. 1. 0. 0. 0. 0. 1. 1. 0. 1. 1. 1.\n",
      " 1. 1. 1. 0. 1. 0. 1. 1. 1. 0. 0. 0. 1. 0. 0. 1. 0. 0. 0. 0. 1. 0. 0. 1.\n",
      " 1. 1. 1. 0. 1. 0. 1. 0. 1. 1. 0. 1. 0. 1. 1. 1. 1. 1. 0. 1. 1. 0. 0. 1.\n",
      " 1. 1. 1. 1. 1. 1. 1. 0. 0. 0. 0. 1. 0. 1. 1. 1. 1. 1. 1. 0. 1. 0. 0. 1.\n",
      " 1. 1. 0. 1. 1. 1. 1. 1. 0. 0. 1. 1. 1. 0. 0. 0. 1. 0. 1. 1. 0. 1. 1. 1.\n",
      " 0. 0. 1. 0. 1. 0. 0. 1. 1. 0. 1. 0. 1. 0. 0. 1. 1. 1. 0. 1. 1. 1. 0. 0.\n",
      " 1. 1. 1. 1. 0. 0. 1. 1. 1. 0. 1. 0. 1. 0. 0. 0. 0. 0. 1. 1. 1. 0. 1. 1.\n",
      " 0. 0. 1. 0. 1. 1. 0. 0. 1. 1. 0. 1. 0. 0. 0. 1. 1. 1. 0. 0. 1. 0. 1. 0.\n",
      " 1. 0. 0. 0. 1. 0. 1. 0. 1. 1. 1. 1.]\n",
      "     CŒUR\n",
      "900   1.0\n",
      "570   1.0\n",
      "791   1.0\n",
      "189   1.0\n",
      "372   1.0\n",
      "..    ...\n",
      "66    0.0\n",
      "395   1.0\n",
      "355   1.0\n",
      "277   1.0\n",
      "604   0.0\n",
      "\n",
      "[276 rows x 1 columns]\n"
     ]
    }
   ],
   "source": [
    "print(pred)\n",
    "print(y_test)"
   ]
  },
  {
   "cell_type": "code",
   "execution_count": 30,
   "id": "82d60631-3c71-4901-8b07-e50496ae2028",
   "metadata": {},
   "outputs": [
    {
     "name": "stdout",
     "output_type": "stream",
     "text": [
      "              precision    recall  f1-score   support\n",
      "\n",
      "         0.0       0.81      0.85      0.83       109\n",
      "         1.0       0.90      0.87      0.88       167\n",
      "\n",
      "    accuracy                           0.86       276\n",
      "   macro avg       0.85      0.86      0.86       276\n",
      "weighted avg       0.86      0.86      0.86       276\n",
      "\n",
      "0.8623188405797102\n"
     ]
    }
   ],
   "source": [
    "#Validation du modèle\n",
    "#confusion_matrix(y_test,pred)\n",
    "print(classification_report(y_test,pred))\n",
    "print(accuracy_score(y_test,pred))"
   ]
  },
  {
   "cell_type": "code",
   "execution_count": null,
   "id": "aa2b35f6-c7b4-478f-b100-585d45d7aa66",
   "metadata": {},
   "outputs": [],
   "source": []
  }
 ],
 "metadata": {
  "kernelspec": {
   "display_name": "Python 3",
   "language": "python",
   "name": "python3"
  },
  "language_info": {
   "codemirror_mode": {
    "name": "ipython",
    "version": 3
   },
   "file_extension": ".py",
   "mimetype": "text/x-python",
   "name": "python",
   "nbconvert_exporter": "python",
   "pygments_lexer": "ipython3",
   "version": "3.8.8"
  }
 },
 "nbformat": 4,
 "nbformat_minor": 5
}
